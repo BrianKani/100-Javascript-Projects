{
  "nbformat": 4,
  "nbformat_minor": 0,
  "metadata": {
    "colab": {
      "provenance": [],
      "authorship_tag": "ABX9TyPqpAFR+Q+BPduIp+vo+kEu"
    },
    "kernelspec": {
      "name": "python3",
      "display_name": "Python 3"
    },
    "language_info": {
      "name": "python"
    }
  },
  "cells": [
    {
      "cell_type": "code",
      "execution_count": 1,
      "metadata": {
        "id": "Vv64Ws3DVM_h"
      },
      "outputs": [],
      "source": [
        "import geemap\n",
        "import ee"
      ]
    },
    {
      "cell_type": "code",
      "source": [
        "ee.Authenticate()\n",
        "ee.Initialize(project=\"ee-briankipsang19\")"
      ],
      "metadata": {
        "colab": {
          "base_uri": "https://localhost:8080/",
          "height": 17
        },
        "id": "BBcKy2mmVVq0",
        "outputId": "6483ba44-a6e3-4168-92a6-d10cfa403671"
      },
      "execution_count": 4,
      "outputs": [
        {
          "output_type": "display_data",
          "data": {
            "text/plain": [
              "<IPython.core.display.HTML object>"
            ],
            "text/html": [
              "\n",
              "            <style>\n",
              "                .geemap-dark {\n",
              "                    --jp-widgets-color: white;\n",
              "                    --jp-widgets-label-color: white;\n",
              "                    --jp-ui-font-color1: white;\n",
              "                    --jp-layout-color2: #454545;\n",
              "                    background-color: #383838;\n",
              "                }\n",
              "                    \n",
              "                .geemap-dark .jupyter-button {\n",
              "                    --jp-layout-color3: #383838;\n",
              "                }\n",
              "                \n",
              "                .geemap-colab {\n",
              "                    background-color: var(--colab-primary-surface-color, white);\n",
              "                }\n",
              "                    \n",
              "                .geemap-colab .jupyter-button {\n",
              "                    --jp-layout-color3: var(--colab-primary-surface-color, white);\n",
              "                }\n",
              "            </style>\n",
              "            "
            ]
          },
          "metadata": {}
        }
      ]
    },
    {
      "cell_type": "code",
      "source": [
        "import time\n",
        "import pandas as pd\n",
        "\n",
        "img = ee.Image(img)\n",
        "\n",
        "def export_oneimage(img, folder, name, region, scale, crs):\n",
        "    task = ee.batch.Export.image.toDrive(image=img, description=name, folder=folder, fileNamePrefix=name, region=region, scale=scale, crs=crs)\n",
        "    task.start()\n",
        "    while task.status()['state'] == 'RUNNING':\n",
        "        print('Running...')\n",
        "        # Perhaps task.cancel() at some point.\n",
        "        time.sleep(10)\n",
        "    print('Done.', task.status())\n",
        "\n",
        "locations = pd.read_csv('/content/locations.csv')\n",
        "\n",
        "# Define Uasin Gishu County bounding box coordinates\n",
        "uasin_gishu_bbox = [[34.6898, 0.3601], [35.8078, 0.3601], [35.8078, 0.9558], [34.6898, 0.9558]]\n",
        "\n",
        "# Transforms an Image Collection with 1 band per Image into a single Image with items as bands\n",
        "\n",
        "def appendBand(current, previous):\n",
        "    # Convert current and previous to ee.Image\n",
        "    current = ee.Image(current)\n",
        "    previous = ee.Image(previous)\n",
        "\n",
        "    # Select bands if necessary\n",
        "    current = current.select([0, 1, 2, 3, 4, 5, 6])  # Adjust band selection as needed\n",
        "\n",
        "    # Add bands to the destination image\n",
        "    if previous:\n",
        "        accum = previous.addBands(current)\n",
        "    else:\n",
        "        accum = current\n",
        "\n",
        "    return accum\n",
        "\n",
        "\n",
        "imgcoll = ee.ImageCollection('MODIS/MOD09A1') \\\n",
        "    .filterBounds(ee.Geometry.Polygon(uasin_gishu_bbox))\n",
        "\n",
        "img = imgcoll.first()\n",
        "img = img.toShort()\n",
        "\n",
        "for lat, lon in locations.values:\n",
        "    fname = 'location_{}_{}'.format(lat, lon)\n",
        "\n",
        "    offset = 0.11\n",
        "    scale = 500\n",
        "    crs = 'EPSG:4326'\n",
        "\n",
        "    region = ee.Geometry.Rectangle([lon - offset, lat - offset, lon + offset, lat + offset])\n",
        "\n",
        "    while True:\n",
        "        try:\n",
        "            export_oneimage(img, 'Data', fname, region, scale, crs)\n",
        "        except Exception as e:\n",
        "            print('Error:', e)\n",
        "            print('Retry...')\n",
        "            time.sleep(10)\n",
        "            continue\n",
        "        break"
      ],
      "metadata": {
        "colab": {
          "base_uri": "https://localhost:8080/",
          "height": 124
        },
        "id": "x1XA5Pv7VcgP",
        "outputId": "86ea1a44-a681-4dda-c986-06c08585f8bf"
      },
      "execution_count": 15,
      "outputs": [
        {
          "output_type": "display_data",
          "data": {
            "text/plain": [
              "<IPython.core.display.HTML object>"
            ],
            "text/html": [
              "\n",
              "            <style>\n",
              "                .geemap-dark {\n",
              "                    --jp-widgets-color: white;\n",
              "                    --jp-widgets-label-color: white;\n",
              "                    --jp-ui-font-color1: white;\n",
              "                    --jp-layout-color2: #454545;\n",
              "                    background-color: #383838;\n",
              "                }\n",
              "                    \n",
              "                .geemap-dark .jupyter-button {\n",
              "                    --jp-layout-color3: #383838;\n",
              "                }\n",
              "                \n",
              "                .geemap-colab {\n",
              "                    background-color: var(--colab-primary-surface-color, white);\n",
              "                }\n",
              "                    \n",
              "                .geemap-colab .jupyter-button {\n",
              "                    --jp-layout-color3: var(--colab-primary-surface-color, white);\n",
              "                }\n",
              "            </style>\n",
              "            "
            ]
          },
          "metadata": {}
        },
        {
          "output_type": "stream",
          "name": "stdout",
          "text": [
            "Done. {'state': 'READY', 'description': 'location_0.5364_35.2916', 'creation_timestamp_ms': 1707403126698, 'update_timestamp_ms': 1707403126698, 'start_timestamp_ms': 0, 'task_type': 'EXPORT_IMAGE', 'id': '5WZNW6IJIIA66P5WTLIQH2II', 'name': 'projects/ee-briankipsang19/operations/5WZNW6IJIIA66P5WTLIQH2II'}\n",
            "Done. {'state': 'READY', 'description': 'location_0.5225_35.2478', 'creation_timestamp_ms': 1707403128057, 'update_timestamp_ms': 1707403128057, 'start_timestamp_ms': 0, 'task_type': 'EXPORT_IMAGE', 'id': 'KTHGVN6GEDADPFFPQYNG662H', 'name': 'projects/ee-briankipsang19/operations/KTHGVN6GEDADPFFPQYNG662H'}\n",
            "Done. {'state': 'READY', 'description': 'location_0.4979_35.2986', 'creation_timestamp_ms': 1707403129215, 'update_timestamp_ms': 1707403129215, 'start_timestamp_ms': 0, 'task_type': 'EXPORT_IMAGE', 'id': 'AT2ZJZHSUP2W7IY245DOM3LI', 'name': 'projects/ee-briankipsang19/operations/AT2ZJZHSUP2W7IY245DOM3LI'}\n",
            "Done. {'state': 'READY', 'description': 'location_0.6194_35.1931', 'creation_timestamp_ms': 1707403130386, 'update_timestamp_ms': 1707403130386, 'start_timestamp_ms': 0, 'task_type': 'EXPORT_IMAGE', 'id': '4FYDQCFI7NLGFVFYK5OACLH4', 'name': 'projects/ee-briankipsang19/operations/4FYDQCFI7NLGFVFYK5OACLH4'}\n",
            "Done. {'state': 'READY', 'description': 'location_0.7189_35.2983', 'creation_timestamp_ms': 1707403131563, 'update_timestamp_ms': 1707403131563, 'start_timestamp_ms': 0, 'task_type': 'EXPORT_IMAGE', 'id': 'BFWWNDXBGJARVOPAL4PREJ76', 'name': 'projects/ee-briankipsang19/operations/BFWWNDXBGJARVOPAL4PREJ76'}\n"
          ]
        }
      ]
    },
    {
      "cell_type": "code",
      "source": [],
      "metadata": {
        "id": "wf7zaTcdVm33"
      },
      "execution_count": null,
      "outputs": []
    }
  ]
}